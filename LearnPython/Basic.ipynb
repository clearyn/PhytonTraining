{
 "metadata": {
  "language_info": {
   "codemirror_mode": {
    "name": "ipython",
    "version": 3
   },
   "file_extension": ".py",
   "mimetype": "text/x-python",
   "name": "python",
   "nbconvert_exporter": "python",
   "pygments_lexer": "ipython3",
   "version": 3
  },
  "orig_nbformat": 2
 },
 "nbformat": 4,
 "nbformat_minor": 2,
 "cells": [
  {
   "cell_type": "code",
   "execution_count": null,
   "metadata": {},
   "outputs": [],
   "source": [
    "#Instance\n",
    "mystring = None #change into another type string\n",
    "myfloat = None  #float\n",
    "myint = \"waw\"   #str or int\n",
    "\n",
    "if mystring == \"hello\":\n",
    "    print(\"String: {0} {1}\".format(mystring, type(mystring)))\n",
    "elif(isinstance(myfloat, float)):\n",
    "    print(\"Float: {0}\".format(myfloat))\n",
    "elif(isinstance(myint, (str, int))):\n",
    "    print(\"Str or Int {0}\". format(myint))\n",
    "else:\n",
    "    print(\"None in above\")"
   ]
  }
 ]
}