{
  "nbformat": 4,
  "nbformat_minor": 0,
  "metadata": {
    "language_info": {
      "codemirror_mode": {
        "name": "ipython",
        "version": 3
      },
      "file_extension": ".py",
      "mimetype": "text/x-python",
      "name": "python",
      "nbconvert_exporter": "python",
      "pygments_lexer": "ipython3",
      "version": "3.9.5"
    },
    "orig_nbformat": 2,
    "kernelspec": {
      "name": "python395jvsc74a57bd08b3a4e5af5bc2f84f79f0b21184fc98f889c9825bf9cbf6dd8eaaeeaf04dc1cc",
      "display_name": "Python 3.9.5 64-bit"
    },
    "metadata": {
      "interpreter": {
        "hash": "8b3a4e5af5bc2f84f79f0b21184fc98f889c9825bf9cbf6dd8eaaeeaf04dc1cc"
      }
    },
    "colab": {
      "name": "Basic.ipynb",
      "provenance": []
    }
  },
  "cells": [
    {
      "cell_type": "code",
      "metadata": {
        "id": "JbG3_WQcQ5vR"
      },
      "source": [
        "#Base\n",
        "import os"
      ],
      "execution_count": 2,
      "outputs": []
    },
    {
      "cell_type": "code",
      "metadata": {
        "id": "XYELjki7QxDN"
      },
      "source": [
        "#Instance\n",
        "mystring = None #change into another type string\n",
        "myfloat = None  #float\n",
        "myint = \"waw\"   #str or int\n",
        "\n",
        "if mystring == \"hello\":\n",
        "    print(\"String: {0} {1}\".format(mystring, type(mystring)))\n",
        "elif(isinstance(myfloat, float)):\n",
        "    print(\"Float: {0}\".format(myfloat))\n",
        "elif(isinstance(myint, (str, int))):\n",
        "    print(\"Str or Int {0}\". format(myint))\n",
        "else:\n",
        "    print(\"None in above\")"
      ],
      "execution_count": 1,
      "outputs": [
        {
          "output_type": "stream",
          "name": "stdout",
          "text": [
            "Str or Int waw\n"
          ]
        }
      ]
    },
    {
      "cell_type": "code",
      "metadata": {
        "id": "-8NBJRaGQxDP",
        "outputId": "e463fc63-919b-457b-d0b4-5887e0e422c4"
      },
      "source": [
        "#Lists\n",
        "numbers = []\n",
        "strings = []\n",
        "names = [\"John\", \"Eric\", \"Jessica\"]\n",
        "\n",
        "# write your code here\n",
        "second_name = None\n",
        "numbers.append(1)\n",
        "# add list to list\n",
        "a = [\"apple\", \"banana\", \"cherry\"]\n",
        "strings.append(\"watermelon\")\n",
        "strings.append(a)\n",
        "\n",
        "\n",
        "\n",
        "# this code should write out the filled arrays and the second name in the names list (Eric).\n",
        "print(numbers)\n",
        "print(strings)\n",
        "print(\"The second name on the names list is %s\" % second_name)"
      ],
      "execution_count": 2,
      "outputs": [
        {
          "output_type": "stream",
          "name": "stdout",
          "text": [
            "[1]\n['watermelon', ['apple', 'banana', 'cherry']]\nThe second name on the names list is None\n"
          ]
        }
      ]
    },
    {
      "cell_type": "code",
      "metadata": {
        "id": "jrCtYst_QxDP"
      },
      "source": [
        "#Arithmatic Operators\n",
        "number = 1 + 2 + 3 / 4.0\n",
        "print(number)\n",
        "\n",
        "#Modulo\n",
        "remainder = 11 % 3\n",
        "print(remainder)\n",
        "\n",
        "#Power\n",
        "squared = 7 ** 2\n",
        "cubed = 2 ** 3\n",
        "print(squared)\n",
        "print(cubed)\n",
        "\n",
        "#Operator With String\n",
        "helloworld = \"hello\" + \" \" + \"world\"\n",
        "print(helloworld)\n",
        "\n",
        "#Multiply String\n",
        "lotsofhellos = \"hello\" * 10\n",
        "print(lotsofhellos)\n",
        "\n",
        "#Operator with Lists\n",
        "even_numbers = [2,4,6,8]\n",
        "odd_numbers = [1,3,5,7]\n",
        "all_numbers = odd_numbers + even_numbers\n",
        "print(all_numbers)\n",
        "\n",
        "#Multiply List\n",
        "print([1,2,3] * 3)"
      ],
      "execution_count": 1,
      "outputs": [
        {
          "output_type": "stream",
          "name": "stdout",
          "text": [
            "3.75\n2\n49\n8\nhello world\nhellohellohellohellohellohellohellohellohellohello\n[1, 3, 5, 7, 2, 4, 6, 8]\n[1, 2, 3, 1, 2, 3, 1, 2, 3]\n"
          ]
        }
      ]
    },
    {
      "cell_type": "code",
      "execution_count": 2,
      "metadata": {},
      "outputs": [
        {
          "output_type": "stream",
          "name": "stdout",
          "text": [
            "single quotes are ' '\n12\n4\n3\nlo w\norld!\n13579\n!dlrow olleH\nHELLO WORLD!\nhello world!\nTrue\nFalse\n['Hello', 'world!']\n"
          ]
        }
      ],
      "source": [
        "#Basic String\n",
        "astring = \"Hello world!\"\n",
        "astring2 = 'Hello world!'\n",
        "print(\"single quotes are ' '\")\n",
        "#Length\n",
        "print(len(astring))\n",
        "#Index\n",
        "print(astring.index(\"o\"))\n",
        "#Count Index\n",
        "print(astring.count(\"l\"))\n",
        "#Slice String\n",
        "print(astring[3:7])\n",
        "#Slice String Negative\n",
        "print(astring[-5:len(astring)]) # alternative [-5:] provide last index\n",
        "#[start:stop:step]\n",
        "myNumber = \"123456789\"\n",
        "print(myNumber[::2])\n",
        "#Flip String\n",
        "print(astring[::-1])\n",
        "#Uppercase & Lowercase\n",
        "print(astring.upper())\n",
        "print(astring.lower())\n",
        "print(astring.startswith(\"Hello\"))\n",
        "print(astring.endswith(\"asdfasdfasdf\"))\n",
        "#Split String\n",
        "afewwords = astring.split(\" \")\n",
        "print(afewwords)"
      ]
    }
  ]
}