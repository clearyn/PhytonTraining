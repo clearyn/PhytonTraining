{
  "nbformat": 4,
  "nbformat_minor": 0,
  "metadata": {
    "language_info": {
      "codemirror_mode": {
        "name": "ipython",
        "version": 3
      },
      "file_extension": ".py",
      "mimetype": "text/x-python",
      "name": "python",
      "nbconvert_exporter": "python",
      "pygments_lexer": "ipython3",
      "version": "3.9.5"
    },
    "orig_nbformat": 2,
    "kernelspec": {
      "name": "python395jvsc74a57bd08b3a4e5af5bc2f84f79f0b21184fc98f889c9825bf9cbf6dd8eaaeeaf04dc1cc",
      "display_name": "Python 3.9.5 64-bit"
    },
    "metadata": {
      "interpreter": {
        "hash": "8b3a4e5af5bc2f84f79f0b21184fc98f889c9825bf9cbf6dd8eaaeeaf04dc1cc"
      }
    },
    "colab": {
      "name": "Basic.ipynb",
      "provenance": []
    }
  },
  "cells": [
    {
      "cell_type": "code",
      "metadata": {
        "id": "JbG3_WQcQ5vR"
      },
      "source": [
        "#Base\n",
        "import os"
      ],
      "execution_count": 2,
      "outputs": []
    },
    {
      "cell_type": "code",
      "metadata": {
        "id": "XYELjki7QxDN"
      },
      "source": [
        "#Instance\n",
        "mystring = None #change into another type string\n",
        "myfloat = None  #float\n",
        "myint = \"waw\"   #str or int\n",
        "\n",
        "if mystring == \"hello\":\n",
        "    print(\"String: {0} {1}\".format(mystring, type(mystring)))\n",
        "elif(isinstance(myfloat, float)):\n",
        "    print(\"Float: {0}\".format(myfloat))\n",
        "elif(isinstance(myint, (str, int))):\n",
        "    print(\"Str or Int {0}\". format(myint))\n",
        "else:\n",
        "    print(\"None in above\")"
      ],
      "execution_count": null,
      "outputs": []
    },
    {
      "cell_type": "code",
      "metadata": {
        "id": "-8NBJRaGQxDP",
        "outputId": "e463fc63-919b-457b-d0b4-5887e0e422c4"
      },
      "source": [
        "#Lists\n",
        "numbers = []\n",
        "strings = []\n",
        "names = [\"John\", \"Eric\", \"Jessica\"]\n",
        "\n",
        "# write your code here\n",
        "second_name = None\n",
        "numbers.append(1)\n",
        "# add list to list\n",
        "a = [\"apple\", \"banana\", \"cherry\"]\n",
        "strings.append(\"watermelon\")\n",
        "strings.append(a)\n",
        "\n",
        "\n",
        "\n",
        "# this code should write out the filled arrays and the second name in the names list (Eric).\n",
        "print(numbers)\n",
        "print(strings)\n",
        "print(\"The second name on the names list is %s\" % second_name)"
      ],
      "execution_count": null,
      "outputs": [
        {
          "output_type": "error",
          "ename": "SyntaxError",
          "evalue": "unexpected EOF while parsing (<ipython-input-13-c6b492190847>, line 22)",
          "traceback": [
            "\u001b[1;36m  File \u001b[1;32m\"<ipython-input-13-c6b492190847>\"\u001b[1;36m, line \u001b[1;32m22\u001b[0m\n\u001b[1;33m    print(\"List of numbers contain: {0}\".format(1)\u001b[0m\n\u001b[1;37m                                                  ^\u001b[0m\n\u001b[1;31mSyntaxError\u001b[0m\u001b[1;31m:\u001b[0m unexpected EOF while parsing\n"
          ]
        }
      ]
    },
    {
      "cell_type": "code",
      "metadata": {
        "id": "jrCtYst_QxDP"
      },
      "source": [
        ""
      ],
      "execution_count": null,
      "outputs": []
    }
  ]
}