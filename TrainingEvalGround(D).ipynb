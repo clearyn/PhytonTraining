{
  "nbformat": 4,
  "nbformat_minor": 0,
  "metadata": {
    "colab": {
      "name": "TrainingEvalGround(D).ipynb",
      "provenance": [],
      "authorship_tag": "ABX9TyOWX0wubRfBKS08V9UzL4ES",
      "include_colab_link": true
    },
    "kernelspec": {
      "name": "python3",
      "display_name": "Python 3"
    },
    "language_info": {
      "name": "python"
    }
  },
  "cells": [
    {
      "cell_type": "markdown",
      "metadata": {
        "id": "view-in-github",
        "colab_type": "text"
      },
      "source": [
        "<a href=\"https://colab.research.google.com/github/clearyn/PythonTraining/blob/main/TrainingEvalGround(D).ipynb\" target=\"_parent\"><img src=\"https://colab.research.google.com/assets/colab-badge.svg\" alt=\"Open In Colab\"/></a>"
      ]
    },
    {
      "cell_type": "markdown",
      "metadata": {
        "id": "GbuZCVFSJVnc"
      },
      "source": [
        "![Separate Binary.PNG](data:image/png;base64,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)"
      ]
    },
    {
      "cell_type": "code",
      "metadata": {
        "id": "6_5Uonx5JI0H"
      },
      "source": [
        "# Warning: Printing unwanted or ill-formatted data to output will cause the test cases to fail\n",
        "\n",
        "'''\n",
        "# Sample code to perform I/O:\n",
        "\n",
        "name = input()                  # Reading input from STDIN\n",
        "print('Hi, %s.' % name)         # Writing output to STDOUT\n",
        "\n",
        "'''\n",
        "\n",
        "# Write your code here\n",
        "binary = list(input())\n",
        "container1 = []\n",
        "container2 = []\n",
        "\n",
        "for i in binary:\n",
        "    if(i == '1'):\n",
        "        container1.append(i)\n",
        "    elif(i == '0'):\n",
        "        container2.append(i)\n",
        "\n",
        "s_binary = ''.join(container1 + container2)\n",
        "print(s_binary)"
      ],
      "execution_count": null,
      "outputs": []
    },
    {
      "cell_type": "code",
      "metadata": {
        "id": "Vbqwz-HR_hJw",
        "outputId": "e50850cd-e7d6-4ccf-f896-907015074765",
        "colab": {
          "base_uri": "https://localhost:8080/"
        }
      },
      "source": [
        "def foo(x, a, b, i, j):\n",
        "  k = j\n",
        "  ct = 0\n",
        "  while k > i - 1:\n",
        "    if x[k] <= b and not (x[k] <= a):\n",
        "      ct = ct + 1\n",
        "    k = k -1\n",
        "  return ct\n",
        "\n",
        "x = [11,10,10,5,10,15,20,10,7,11]\n",
        "print(foo(x,8,18,3,6))\n",
        "print(foo(x,10,20,0,9))\n",
        "print(foo(x,8,18,6,3))\n",
        "print(foo(x,20,10,0,9))\n",
        "print(foo(x,6,7,8,8))"
      ],
      "execution_count": 4,
      "outputs": [
        {
          "output_type": "stream",
          "text": [
            "2\n",
            "4\n",
            "0\n",
            "0\n",
            "1\n"
          ],
          "name": "stdout"
        }
      ]
    },
    {
      "cell_type": "code",
      "metadata": {
        "id": "rjuGwlaPCtnP",
        "outputId": "022fd9e7-72ac-4639-a770-fa606ea5656e",
        "colab": {
          "base_uri": "https://localhost:8080/"
        }
      },
      "source": [
        "def g(str):\n",
        "  i = 0\n",
        "  new_str = \"\"\n",
        "  while i < len(str) - 1:\n",
        "    new_str = new_str + str[i + 1]\n",
        "    i = i + 1\n",
        "  return new_str\n",
        "\n",
        "def f(str):\n",
        "  if len(str) == 0:\n",
        "    return \"\"\n",
        "  elif len(str) == 1:\n",
        "    return str\n",
        "  else:\n",
        "    return f(g(str)) + str[0]\n",
        "\n",
        "def h(n, str):\n",
        "  while n != 1:\n",
        "    if n % 2 == 0:\n",
        "      n = n/2\n",
        "    else:\n",
        "      n = 3*n + 1\n",
        "    str = f(str)\n",
        "  return str\n",
        "\n",
        "def pow(x, y):\n",
        "  if y == 0:\n",
        "    return 1\n",
        "  else:\n",
        "    return x * pow(x, y-1)\n",
        "\n",
        "import sys\n",
        "print(sys.getrecursionlimit())\n",
        "print(h(1, \"fruits\"))\n",
        "print(h(2, \"fruits\"))\n",
        "print(h(5, \"fruits\"))\n",
        "print(h(pow(2, 1000000000000000), \"fruits\"))\n",
        "print(h(pow(2, 9831050005000007), \"fruits\"))"
      ],
      "execution_count": null,
      "outputs": [
        {
          "output_type": "stream",
          "text": [
            "ruits\n",
            "uysa\n"
          ],
          "name": "stdout"
        }
      ]
    }
  ]
}