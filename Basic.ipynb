{
  "nbformat": 4,
  "nbformat_minor": 0,
  "metadata": {
    "language_info": {
      "codemirror_mode": {
        "name": "ipython",
        "version": 3
      },
      "file_extension": ".py",
      "mimetype": "text/x-python",
      "name": "python",
      "nbconvert_exporter": "python",
      "pygments_lexer": "ipython3",
      "version": "3.9.5"
    },
    "orig_nbformat": 2,
    "kernelspec": {
      "name": "python395jvsc74a57bd08b3a4e5af5bc2f84f79f0b21184fc98f889c9825bf9cbf6dd8eaaeeaf04dc1cc",
      "display_name": "Python 3.9.5 64-bit"
    },
    "metadata": {
      "interpreter": {
        "hash": "8b3a4e5af5bc2f84f79f0b21184fc98f889c9825bf9cbf6dd8eaaeeaf04dc1cc"
      }
    },
    "colab": {
      "name": "Basic.ipynb",
      "provenance": [],
      "include_colab_link": true
    }
  },
  "cells": [
    {
      "cell_type": "markdown",
      "metadata": {
        "id": "view-in-github",
        "colab_type": "text"
      },
      "source": [
        "<a href=\"https://colab.research.google.com/github/clearyn/PythonTraining/blob/main/Basic.ipynb\" target=\"_parent\"><img src=\"https://colab.research.google.com/assets/colab-badge.svg\" alt=\"Open In Colab\"/></a>"
      ]
    },
    {
      "cell_type": "code",
      "metadata": {
        "id": "JbG3_WQcQ5vR"
      },
      "source": [
        "#Base\n",
        "import os"
      ],
      "execution_count": null,
      "outputs": []
    },
    {
      "cell_type": "code",
      "metadata": {
        "id": "XYELjki7QxDN",
        "outputId": "4a187959-0047-45b6-a1b3-6868a9df8faf"
      },
      "source": [
        "#Instance\n",
        "mystring = None #change into another type string\n",
        "myfloat = None  #float\n",
        "myint = \"waw\"   #str or int\n",
        "\n",
        "if mystring == \"hello\":\n",
        "    print(\"String: {0} {1}\".format(mystring, type(mystring)))\n",
        "elif(isinstance(myfloat, float)):\n",
        "    print(\"Float: {0}\".format(myfloat))\n",
        "elif(isinstance(myint, (str, int))):\n",
        "    print(\"Str or Int {0}\". format(myint))\n",
        "else:\n",
        "    print(\"None in above\")"
      ],
      "execution_count": null,
      "outputs": [
        {
          "output_type": "stream",
          "text": [
            "Str or Int waw\n"
          ],
          "name": "stdout"
        }
      ]
    },
    {
      "cell_type": "code",
      "metadata": {
        "id": "-8NBJRaGQxDP",
        "outputId": "e463fc63-919b-457b-d0b4-5887e0e422c4"
      },
      "source": [
        "#Lists\n",
        "numbers = []\n",
        "strings = []\n",
        "names = [\"John\", \"Eric\", \"Jessica\"]\n",
        "\n",
        "# write your code here\n",
        "second_name = None\n",
        "numbers.append(1)\n",
        "# add list to list\n",
        "a = [\"apple\", \"banana\", \"cherry\"]\n",
        "strings.append(\"watermelon\")\n",
        "strings.append(a)\n",
        "\n",
        "\n",
        "\n",
        "# this code should write out the filled arrays and the second name in the names list (Eric).\n",
        "print(numbers)\n",
        "print(strings)\n",
        "print(\"The second name on the names list is %s\" % second_name)"
      ],
      "execution_count": null,
      "outputs": [
        {
          "output_type": "stream",
          "text": [
            "[1]\n",
            "['watermelon', ['apple', 'banana', 'cherry']]\n",
            "The second name on the names list is None\n"
          ],
          "name": "stdout"
        }
      ]
    },
    {
      "cell_type": "code",
      "metadata": {
        "id": "jrCtYst_QxDP",
        "outputId": "199b09d1-f85c-480f-f6b8-0d20d12c4420"
      },
      "source": [
        "#Arithmatic Operators\n",
        "number = 1 + 2 + 3 / 4.0\n",
        "print(number)\n",
        "\n",
        "#Modulo\n",
        "remainder = 11 % 3\n",
        "print(remainder)\n",
        "\n",
        "#Power\n",
        "squared = 7 ** 2\n",
        "cubed = 2 ** 3\n",
        "print(squared)\n",
        "print(cubed)\n",
        "\n",
        "#Operator With String\n",
        "helloworld = \"hello\" + \" \" + \"world\"\n",
        "print(helloworld)\n",
        "\n",
        "#Multiply String\n",
        "lotsofhellos = \"hello\" * 10\n",
        "print(lotsofhellos)\n",
        "\n",
        "#Operator with Lists\n",
        "even_numbers = [2,4,6,8]\n",
        "odd_numbers = [1,3,5,7]\n",
        "all_numbers = odd_numbers + even_numbers\n",
        "print(all_numbers)\n",
        "\n",
        "#Multiply List\n",
        "print([1,2,3] * 3)"
      ],
      "execution_count": null,
      "outputs": [
        {
          "output_type": "stream",
          "text": [
            "3.75\n",
            "2\n",
            "49\n",
            "8\n",
            "hello world\n",
            "hellohellohellohellohellohellohellohellohellohello\n",
            "[1, 3, 5, 7, 2, 4, 6, 8]\n",
            "[1, 2, 3, 1, 2, 3, 1, 2, 3]\n"
          ],
          "name": "stdout"
        }
      ]
    },
    {
      "cell_type": "code",
      "metadata": {
        "id": "VdG062RY91yj",
        "outputId": "52c45e8e-dce4-46e4-a819-38a56992dfc1",
        "colab": {
          "base_uri": "https://localhost:8080/"
        }
      },
      "source": [
        "#Basic String\n",
        "astring = \"Hello world!\"\n",
        "astring2 = 'Hello world!'\n",
        "print(\"single quotes are ' '\")\n",
        "#Length\n",
        "print(len(astring))\n",
        "#Index\n",
        "print(astring.index(\"o\"))\n",
        "#Count Index\n",
        "print(astring.count(\"l\"))\n",
        "#Slice String\n",
        "print(astring[3:7])\n",
        "#Slice String Negative\n",
        "print(astring[-5:len(astring)]) # alternative [-5:] provide last index\n",
        "#[start:stop:step]\n",
        "myNumber = \"123456789\"\n",
        "print(myNumber[::2])\n",
        "#Flip String\n",
        "print(astring[::-1])\n",
        "#Uppercase & Lowercase\n",
        "print(astring.upper())\n",
        "print(astring.lower())\n",
        "print(astring.startswith(\"Hello\"))\n",
        "print(astring.endswith(\"asdfasdfasdf\"))\n",
        "#Split String\n",
        "afewwords = astring.split(\" \")\n",
        "print(afewwords)\n",
        "#Bonus\n",
        "st = 'Hello my name is John'\n",
        "st = st.rsplit(' ', 1)\n",
        "print(st)"
      ],
      "execution_count": 16,
      "outputs": [
        {
          "output_type": "stream",
          "text": [
            "single quotes are ' '\n",
            "12\n",
            "4\n",
            "3\n",
            "lo w\n",
            "orld!\n",
            "13579\n",
            "!dlrow olleH\n",
            "HELLO WORLD!\n",
            "hello world!\n",
            "True\n",
            "False\n",
            "['Hello', 'world!']\n",
            "['Hello my name is', 'John']\n"
          ],
          "name": "stdout"
        }
      ]
    },
    {
      "cell_type": "code",
      "metadata": {
        "id": "g6bbJGhG__kh",
        "colab": {
          "base_uri": "https://localhost:8080/"
        },
        "outputId": "410c8414-12aa-4327-9d1f-6de1aae09228"
      },
      "source": [
        "#String Formatting\n",
        "data = (\"John\", \"Doe\", 53.44)\n",
        "format_string = \"Hello %s %s. Your current balance is $%s.\"\n",
        "\n",
        "print(format_string % data)"
      ],
      "execution_count": null,
      "outputs": [
        {
          "output_type": "stream",
          "text": [
            "Hello John Doe. Your current balance is $53.44.\n"
          ],
          "name": "stdout"
        }
      ]
    },
    {
      "cell_type": "code",
      "metadata": {
        "colab": {
          "base_uri": "https://localhost:8080/"
        },
        "id": "4-5Gbbt9GoaB",
        "outputId": "2a391f76-9620-4cb5-8491-9f175d93f8e0"
      },
      "source": [
        "#Conditions\n",
        "name = \"John\"\n",
        "age = 23\n",
        "nameConditions = [\"John\", \"Rick\"]\n",
        "if name == \"John\" and age == 23:\n",
        "  print(\"Your name is John, and you are also 23 years old.\")\n",
        "if name == \"John\" or name  == \"Rick\":\n",
        "  print(\"Your name is either John or Rick.\")\n",
        "\n",
        "if name in nameConditions:\n",
        "  print(\"Your name is either John or Rick.\")\n",
        "\n",
        "x = [1,3,2]\n",
        "y = [1,2,3]\n",
        "print(x == y) # Prints out True\n",
        "print(x is y) # Prints out False\n",
        "print(sorted(x))\n",
        "\n",
        "print(not False) # Prints out True\n",
        "print((not False) == (False)) # Prints out False\n",
        "\n",
        "#Change the variables in the first section, so that each if statement resolves as True.\n",
        "# change this code\n",
        "number = 16\n",
        "second_number = False\n",
        "first_array = [1,2,3]\n",
        "second_array = [1,2]\n",
        "\n",
        "if number > 15:\n",
        "    print(\"1\")\n",
        "\n",
        "if first_array:\n",
        "    print(\"2\")\n",
        "\n",
        "if len(second_array) == 2:\n",
        "    print(\"3\")\n",
        "\n",
        "if len(first_array) + len(second_array) == 5:\n",
        "    print(\"4\")\n",
        "\n",
        "if first_array and first_array[0] == 1:\n",
        "    print(\"5\")\n",
        "\n",
        "if not second_number:\n",
        "    print(\"6\")\n",
        "\n",
        "\n"
      ],
      "execution_count": null,
      "outputs": [
        {
          "output_type": "stream",
          "text": [
            "Your name is John, and you are also 23 years old.\n",
            "Your name is either John or Rick.\n",
            "Your name is either John or Rick.\n",
            "False\n",
            "False\n",
            "[1, 2, 3]\n",
            "True\n",
            "False\n",
            "1\n",
            "2\n",
            "3\n",
            "4\n",
            "5\n",
            "6\n"
          ],
          "name": "stdout"
        }
      ]
    },
    {
      "cell_type": "code",
      "metadata": {
        "colab": {
          "base_uri": "https://localhost:8080/"
        },
        "id": "MLRoMs_i7_-O",
        "outputId": "afaeb12e-85af-495e-b379-fba62f445763"
      },
      "source": [
        "#Loops\n",
        "primes = [2, 3, 5, 7]\n",
        "for prime in primes:\n",
        "    print(prime)\n",
        "print(\"---\")\n",
        "\n",
        "# Prints out the numbers 0,1,2,3,4\n",
        "for x in range(5):\n",
        "    print(x)\n",
        "print(\"---\")\n",
        "\n",
        "# Prints out 3,4,5\n",
        "for x in range(3, 6):\n",
        "    print(x)\n",
        "print(\"---\")\n",
        "\n",
        "# Prints out 3,5,7\n",
        "for x in range(3, 8, 2):\n",
        "    print(x)\n",
        "print(\"---\")\n",
        "\n",
        "count = 0\n",
        "while count < 5:\n",
        "    print(count)\n",
        "    count += 1  # This is the same as count = count + 1\n",
        "print(\"---\")\n",
        "\n",
        "# Prints out 0,1,2,3,4\n",
        "\n",
        "count = 0\n",
        "while True:\n",
        "    print(count)\n",
        "    count += 1\n",
        "    if count >= 5:\n",
        "        break\n",
        "print(\"---\")\n",
        "\n",
        "# Prints out only odd numbers - 1,3,5,7,9\n",
        "for x in range(10):\n",
        "    # Check if x is even\n",
        "    if x % 2 == 0:\n",
        "        continue\n",
        "    print(x)\n",
        "print(\"---\")\n",
        "\n",
        "# Prints out 0,1,2,3,4 and then it prints \"count value reached 5\"\n",
        "\n",
        "count=0\n",
        "while(count<5):\n",
        "    print(count)\n",
        "    count +=1\n",
        "else:\n",
        "    print(\"count value reached %d\" % count)\n",
        "print(\"---\")\n",
        "\n",
        "# Prints out 1,2,3,4\n",
        "for i in range(1, 10):\n",
        "    if(i%5==0):\n",
        "        print(\"bruh %d\" % i)\n",
        "        break\n",
        "    print(i)\n",
        "else:\n",
        "    print(\"this is not printed because for loop is terminated because of break but not due to fail in condition\")\n",
        "print(\"---\")\n",
        "\n",
        "#Excercise\n",
        "#Loop through and print out all even numbers from the numbers list in the same order they are received. Don't print any numbers that come after 237 in the sequence.\n",
        "numbers = [\n",
        "    951, 402, 984, 651, 360, 69, 408, 319, 601, 485, 980, 507, 725, 547, 544,\n",
        "    615, 83, 165, 141, 501, 263, 617, 865, 575, 219, 390, 984, 592, 236, 105, 942, 941,\n",
        "    386, 462, 47, 418, 907, 344, 236, 375, 823, 566, 597, 978, 328, 615, 953, 345,\n",
        "    399, 162, 758, 219, 918, 237, 412, 566, 826, 248, 866, 950, 626, 949, 687, 217,\n",
        "    815, 67, 104, 58, 512, 24, 892, 894, 767, 553, 81, 379, 843, 831, 445, 742, 717,\n",
        "    958, 609, 842, 451, 688, 753, 854, 685, 93, 857, 440, 380, 126, 721, 328, 753, 470,\n",
        "    743, 527\n",
        "]\n",
        "\n",
        "for number in numbers:\n",
        "    if number > 237:\n",
        "      continue\n",
        "    elif number % 2 == 1:\n",
        "      continue\n",
        "    print(number)"
      ],
      "execution_count": null,
      "outputs": [
        {
          "output_type": "stream",
          "text": [
            "2\n",
            "3\n",
            "5\n",
            "7\n",
            "---\n",
            "0\n",
            "1\n",
            "2\n",
            "3\n",
            "4\n",
            "---\n",
            "3\n",
            "4\n",
            "5\n",
            "---\n",
            "3\n",
            "5\n",
            "7\n",
            "---\n",
            "0\n",
            "1\n",
            "2\n",
            "3\n",
            "4\n",
            "---\n",
            "0\n",
            "1\n",
            "2\n",
            "3\n",
            "4\n",
            "---\n",
            "1\n",
            "3\n",
            "5\n",
            "7\n",
            "9\n",
            "---\n",
            "0\n",
            "1\n",
            "2\n",
            "3\n",
            "4\n",
            "count value reached 5\n",
            "---\n",
            "1\n",
            "2\n",
            "3\n",
            "4\n",
            "bruh 5\n",
            "---\n",
            "236\n",
            "236\n",
            "162\n",
            "104\n",
            "58\n",
            "24\n",
            "126\n"
          ],
          "name": "stdout"
        }
      ]
    },
    {
      "cell_type": "code",
      "metadata": {
        "id": "wAEQ0WweF2jw",
        "outputId": "c044a23d-c950-4ff0-9e3d-315613d0875c",
        "colab": {
          "base_uri": "https://localhost:8080/"
        }
      },
      "source": [
        "#Function\n",
        "def my_function():\n",
        "  print(\"Hello My First Function\")\n",
        "my_function()\n",
        "\n",
        "def my_function_with_args(username, greeting):\n",
        "  print(\"Hello, %s, From My Function!, I Wish You %s\" %(username, greeting))\n",
        "my_function_with_args(\"Ryan\", \"Happy\")\n",
        "\n",
        "def sum_two_numbers(a, b):\n",
        "    return a + b\n",
        "print(sum_two_numbers(10, 5))\n",
        "\n",
        "#Excercise\n",
        "\n",
        "# Modify this function to return a list of strings as defined above\n",
        "def list_benefits():\n",
        "    return [\"More organized code\", \"More readable code\", \"Easier code reuse\", \"Allowing programmers to share and connect code together\"]\n",
        "\n",
        "# Modify this function to concatenate to each benefit - \" is a benefit of functions!\"\n",
        "def build_sentence(benefit):\n",
        "    return \"%s is a benefit of functions!\" % benefit\n",
        "\n",
        "def name_the_benefits_of_functions():\n",
        "    list_of_benefits = list_benefits()\n",
        "    for benefit in list_of_benefits:\n",
        "        print(build_sentence(benefit))\n",
        "\n",
        "name_the_benefits_of_functions()"
      ],
      "execution_count": 8,
      "outputs": [
        {
          "output_type": "stream",
          "text": [
            "Hello My First Function\n",
            "Hello, Ryan, From My Function!, I Wish You Happy\n",
            "15\n",
            "More organized code is a benefit of functions!\n",
            "More readable code is a benefit of functions!\n",
            "Easier code reuse is a benefit of functions!\n",
            "Allowing programmers to share and connect code together is a benefit of functions!\n"
          ],
          "name": "stdout"
        }
      ]
    }
  ]
}