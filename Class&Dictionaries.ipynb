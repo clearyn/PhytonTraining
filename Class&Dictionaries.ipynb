{
  "nbformat": 4,
  "nbformat_minor": 0,
  "metadata": {
    "colab": {
      "name": "Class&Dictionaries.ipynb",
      "provenance": [],
      "authorship_tag": "ABX9TyMORiM98B7a8LF78EcwORFj",
      "include_colab_link": true
    },
    "kernelspec": {
      "name": "python3",
      "display_name": "Python 3"
    },
    "language_info": {
      "name": "python"
    }
  },
  "cells": [
    {
      "cell_type": "markdown",
      "metadata": {
        "id": "view-in-github",
        "colab_type": "text"
      },
      "source": [
        "<a href=\"https://colab.research.google.com/github/clearyn/PythonTraining/blob/main/Class%26Dictionaries.ipynb\" target=\"_parent\"><img src=\"https://colab.research.google.com/assets/colab-badge.svg\" alt=\"Open In Colab\"/></a>"
      ]
    },
    {
      "cell_type": "code",
      "metadata": {
        "colab": {
          "base_uri": "https://localhost:8080/"
        },
        "id": "NwAs3uW0Kk59",
        "outputId": "df105d1b-9868-4678-a0b3-93887f916580"
      },
      "source": [
        "#Class and Objects\n",
        "class MyClass:\n",
        "  variable = \"blah\"\n",
        "\n",
        "  def function(self):\n",
        "    print(\"This is a message inside the class.\")\n",
        "\n",
        "myobjectx = MyClass()\n",
        "\n",
        "print(myobjectx.variable)\n",
        "myobjectx.function()\n",
        "\n",
        "#Change value on class\n",
        "myobjecty = MyClass\n",
        "myobjecty.variable = \"blah has been changed\"\n",
        "print(myobjecty.variable)\n",
        "\n",
        "#Excercise\n",
        "# define the Vehicle class\n",
        "class Vehicle:\n",
        "    name = \"\"\n",
        "    kind = \"car\"\n",
        "    color = \"\"\n",
        "    value = 100.00\n",
        "    def description(self):\n",
        "        desc_str = \"%s is a %s %s worth $%.2f.\" % (self.name, self.color, self.kind, self.value)\n",
        "        return desc_str\n",
        "# your code goes here\n",
        "car1 = Vehicle()\n",
        "car1.name = \"Fer\"\n",
        "car1.kind = \"Convertible\"\n",
        "car1.color = \"Red\"\n",
        "car1.value = 60000.00\n",
        "\n",
        "car2 = Vehicle()\n",
        "car2.name = \"Jump\"\n",
        "car2.kind = \"Van\"\n",
        "car2.color = \"Blue\"\n",
        "car2.value = 10000.00\n",
        "\n",
        "# test code\n",
        "print(car1.description())\n",
        "print(car2.description())"
      ],
      "execution_count": null,
      "outputs": [
        {
          "output_type": "stream",
          "text": [
            "blah\n",
            "This is a message inside the class.\n",
            "blah has been changed\n",
            "Fer is a Red Convertible worth $60000.00.\n",
            "Jump is a Blue Van worth $10000.00.\n"
          ],
          "name": "stdout"
        }
      ]
    },
    {
      "cell_type": "code",
      "metadata": {
        "colab": {
          "base_uri": "https://localhost:8080/"
        },
        "id": "8_hrU1WWNOYf",
        "outputId": "89b0d16e-0472-4c0f-99a6-599291041731"
      },
      "source": [
        "#Dictionaries\n",
        "phonebook = {}\n",
        "phonebook[\"John\"] = 938477566\n",
        "phonebook[\"Jack\"] = 938377264\n",
        "phonebook[\"Jill\"] = 947662781\n",
        "print(phonebook)\n",
        "\n",
        "#Alternative\n",
        "phonebook = {\n",
        "    \"John\" : 938477566,\n",
        "    \"Jack\" : 938377264,\n",
        "    \"Jill\" : 947662781\n",
        "}\n",
        "print(phonebook)\n",
        "\n",
        "phonebook = {\"John\" : 938477566,\"Jack\" : 938377264,\"Jill\" : 947662781}\n",
        "for name, waw in phonebook.items():\n",
        "    temp = '{0:.3g}'.format(waw)\n",
        "    print(\"Phone number of {f_name} is {f_waw}\".format(f_name = name, f_waw = temp))"
      ],
      "execution_count": 8,
      "outputs": [
        {
          "output_type": "stream",
          "text": [
            "{'John': 938477566, 'Jack': 938377264, 'Jill': 947662781}\n",
            "{'John': 938477566, 'Jack': 938377264, 'Jill': 947662781}\n",
            "Phone number of John is 9.38e+08\n",
            "Phone number of Jack is 9.38e+08\n",
            "Phone number of Jill is 9.48e+08\n"
          ],
          "name": "stdout"
        }
      ]
    }
  ]
}